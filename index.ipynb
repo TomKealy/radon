{
 "cells": [
  {
   "cell_type": "markdown",
   "metadata": {
    "slideshow": {
     "slide_type": "slide"
    }
   },
   "source": [
    "# Data Science Lunch and Learn: Bayesian Models\n",
    "## Thomas Kealy\n",
    "## 2019/10/14"
   ]
  },
  {
   "cell_type": "markdown",
   "metadata": {
    "slideshow": {
     "slide_type": "slide"
    }
   },
   "source": [
    "This talk\n",
    "\n",
    "- Worked example of a regression model for Radon gas.\n",
    "\n",
    "Contents\n",
    "- What is a Bayesian Heirarchical Model.\n",
    "- Fully pooled model.\n",
    "- Fully unpooled model.\n",
    "- Partially pooled model.\n",
    "- Mixed model."
   ]
  },
  {
   "cell_type": "markdown",
   "metadata": {
    "slideshow": {
     "slide_type": "slide"
    }
   },
   "source": [
    "Radon gas is known to be the highest cause of lung cancer in non-smokers.  It is believed to be more strongly present in households containing a basement and to differ in amount present among types of soil. Radon levels vary from household to household.\n",
    "\n",
    "The EPA did a study of radon levels in 80,000 houses. Two important predictors:\n",
    "\n",
    "- measurement in basement or first floor (radon higher in basements).\n",
    "- county uranium level (positive correlation with radon levels).\n",
    "\n",
    "We will focus on Radon levels in Minnessota."
   ]
  },
  {
   "cell_type": "markdown",
   "metadata": {
    "slideshow": {
     "slide_type": "slide"
    }
   },
   "source": [
    "![title](how-radon-enters-a-house.jpg)"
   ]
  },
  {
   "cell_type": "code",
   "execution_count": 1,
   "metadata": {
    "slideshow": {
     "slide_type": "skip"
    }
   },
   "outputs": [
    {
     "name": "stdout",
     "output_type": "stream",
     "text": [
      "Running on PyMC3 v3.7\n"
     ]
    }
   ],
   "source": [
    "%matplotlib inline\n",
    "import numpy as np\n",
    "import pandas as pd\n",
    "from pymc3 import __version__\n",
    "import matplotlib.pyplot as plt\n",
    "import seaborn as sns\n",
    "plt.style.use('seaborn-darkgrid')\n",
    "print('Running on PyMC3 v{}'.format(__version__))"
   ]
  },
  {
   "cell_type": "code",
   "execution_count": 2,
   "metadata": {
    "slideshow": {
     "slide_type": "slide"
    }
   },
   "outputs": [],
   "source": [
    "def load_data():\n",
    "    from pymc3 import get_data\n",
    "\n",
    "    # Import radon data\n",
    "    srrs2 = pd.read_csv(get_data('srrs2.dat'))\n",
    "    srrs2.columns = srrs2.columns.map(str.strip)\n",
    "    srrs_mn = srrs2[srrs2.state=='MN'].copy()\n",
    "\n",
    "    srrs_mn['fips'] = srrs_mn.stfips*1000 + srrs_mn.cntyfips\n",
    "    cty = pd.read_csv(get_data('cty.dat'))\n",
    "    cty_mn = cty[cty.st=='MN'].copy()\n",
    "    cty_mn[ 'fips'] = 1000*cty_mn.stfips + cty_mn.ctfips\n",
    "\n",
    "    srrs_mn = srrs_mn.merge(cty_mn[['fips', 'Uppm']], on='fips')\n",
    "    srrs_mn = srrs_mn.drop_duplicates(subset='idnum')\n",
    "    \n",
    "    srrs_mn.county = srrs_mn.county.map(str.strip)\n",
    "    mn_counties = srrs_mn.county.unique()\n",
    "    counties = len(mn_counties)\n",
    "    county_lookup = dict(zip(mn_counties, range(len(mn_counties))))\n",
    "\n",
    "    county = srrs_mn['county_code'] = srrs_mn.county.replace(county_lookup).values\n",
    "    srrs_mn['log_radon'] = srrs_mn.activity.apply(np.log1p)\n",
    "    srrs_mn['u'] = np.log(srrs_mn.Uppm)\n",
    "    \n",
    "    srrs_mn.set_index('idnum')\n",
    "\n",
    "    return srrs_mn, county, county_lookup"
   ]
  },
  {
   "cell_type": "code",
   "execution_count": 3,
   "metadata": {
    "scrolled": true,
    "slideshow": {
     "slide_type": "slide"
    }
   },
   "outputs": [
    {
     "data": {
      "text/html": [
       "<div>\n",
       "<style scoped>\n",
       "    .dataframe tbody tr th:only-of-type {\n",
       "        vertical-align: middle;\n",
       "    }\n",
       "\n",
       "    .dataframe tbody tr th {\n",
       "        vertical-align: top;\n",
       "    }\n",
       "\n",
       "    .dataframe thead th {\n",
       "        text-align: right;\n",
       "    }\n",
       "</style>\n",
       "<table border=\"1\" class=\"dataframe\">\n",
       "  <thead>\n",
       "    <tr style=\"text-align: right;\">\n",
       "      <th></th>\n",
       "      <th>idnum</th>\n",
       "      <th>state</th>\n",
       "      <th>state2</th>\n",
       "      <th>stfips</th>\n",
       "      <th>zip</th>\n",
       "      <th>region</th>\n",
       "      <th>typebldg</th>\n",
       "      <th>floor</th>\n",
       "      <th>room</th>\n",
       "      <th>basement</th>\n",
       "      <th>...</th>\n",
       "      <th>adjwt</th>\n",
       "      <th>dupflag</th>\n",
       "      <th>zipflag</th>\n",
       "      <th>cntyfips</th>\n",
       "      <th>county</th>\n",
       "      <th>fips</th>\n",
       "      <th>Uppm</th>\n",
       "      <th>county_code</th>\n",
       "      <th>log_radon</th>\n",
       "      <th>u</th>\n",
       "    </tr>\n",
       "  </thead>\n",
       "  <tbody>\n",
       "    <tr>\n",
       "      <td>0</td>\n",
       "      <td>5081</td>\n",
       "      <td>MN</td>\n",
       "      <td>MN</td>\n",
       "      <td>27</td>\n",
       "      <td>55735</td>\n",
       "      <td>5</td>\n",
       "      <td>1</td>\n",
       "      <td>1</td>\n",
       "      <td>3</td>\n",
       "      <td>N</td>\n",
       "      <td>...</td>\n",
       "      <td>1146.499190</td>\n",
       "      <td>1</td>\n",
       "      <td>0</td>\n",
       "      <td>1</td>\n",
       "      <td>AITKIN</td>\n",
       "      <td>27001</td>\n",
       "      <td>0.502054</td>\n",
       "      <td>0</td>\n",
       "      <td>1.163151</td>\n",
       "      <td>-0.689048</td>\n",
       "    </tr>\n",
       "    <tr>\n",
       "      <td>1</td>\n",
       "      <td>5082</td>\n",
       "      <td>MN</td>\n",
       "      <td>MN</td>\n",
       "      <td>27</td>\n",
       "      <td>55748</td>\n",
       "      <td>5</td>\n",
       "      <td>1</td>\n",
       "      <td>0</td>\n",
       "      <td>4</td>\n",
       "      <td>Y</td>\n",
       "      <td>...</td>\n",
       "      <td>471.366223</td>\n",
       "      <td>0</td>\n",
       "      <td>0</td>\n",
       "      <td>1</td>\n",
       "      <td>AITKIN</td>\n",
       "      <td>27001</td>\n",
       "      <td>0.502054</td>\n",
       "      <td>0</td>\n",
       "      <td>1.163151</td>\n",
       "      <td>-0.689048</td>\n",
       "    </tr>\n",
       "    <tr>\n",
       "      <td>2</td>\n",
       "      <td>5083</td>\n",
       "      <td>MN</td>\n",
       "      <td>MN</td>\n",
       "      <td>27</td>\n",
       "      <td>55748</td>\n",
       "      <td>5</td>\n",
       "      <td>1</td>\n",
       "      <td>0</td>\n",
       "      <td>4</td>\n",
       "      <td>Y</td>\n",
       "      <td>...</td>\n",
       "      <td>433.316718</td>\n",
       "      <td>0</td>\n",
       "      <td>0</td>\n",
       "      <td>1</td>\n",
       "      <td>AITKIN</td>\n",
       "      <td>27001</td>\n",
       "      <td>0.502054</td>\n",
       "      <td>0</td>\n",
       "      <td>1.360977</td>\n",
       "      <td>-0.689048</td>\n",
       "    </tr>\n",
       "    <tr>\n",
       "      <td>3</td>\n",
       "      <td>5084</td>\n",
       "      <td>MN</td>\n",
       "      <td>MN</td>\n",
       "      <td>27</td>\n",
       "      <td>56469</td>\n",
       "      <td>5</td>\n",
       "      <td>1</td>\n",
       "      <td>0</td>\n",
       "      <td>4</td>\n",
       "      <td>Y</td>\n",
       "      <td>...</td>\n",
       "      <td>461.623670</td>\n",
       "      <td>0</td>\n",
       "      <td>0</td>\n",
       "      <td>1</td>\n",
       "      <td>AITKIN</td>\n",
       "      <td>27001</td>\n",
       "      <td>0.502054</td>\n",
       "      <td>0</td>\n",
       "      <td>0.693147</td>\n",
       "      <td>-0.689048</td>\n",
       "    </tr>\n",
       "    <tr>\n",
       "      <td>4</td>\n",
       "      <td>5085</td>\n",
       "      <td>MN</td>\n",
       "      <td>MN</td>\n",
       "      <td>27</td>\n",
       "      <td>55011</td>\n",
       "      <td>3</td>\n",
       "      <td>1</td>\n",
       "      <td>0</td>\n",
       "      <td>4</td>\n",
       "      <td>Y</td>\n",
       "      <td>...</td>\n",
       "      <td>433.316718</td>\n",
       "      <td>0</td>\n",
       "      <td>0</td>\n",
       "      <td>3</td>\n",
       "      <td>ANOKA</td>\n",
       "      <td>27003</td>\n",
       "      <td>0.428565</td>\n",
       "      <td>1</td>\n",
       "      <td>1.410987</td>\n",
       "      <td>-0.847313</td>\n",
       "    </tr>\n",
       "    <tr>\n",
       "      <td>...</td>\n",
       "      <td>...</td>\n",
       "      <td>...</td>\n",
       "      <td>...</td>\n",
       "      <td>...</td>\n",
       "      <td>...</td>\n",
       "      <td>...</td>\n",
       "      <td>...</td>\n",
       "      <td>...</td>\n",
       "      <td>...</td>\n",
       "      <td>...</td>\n",
       "      <td>...</td>\n",
       "      <td>...</td>\n",
       "      <td>...</td>\n",
       "      <td>...</td>\n",
       "      <td>...</td>\n",
       "      <td>...</td>\n",
       "      <td>...</td>\n",
       "      <td>...</td>\n",
       "      <td>...</td>\n",
       "      <td>...</td>\n",
       "      <td>...</td>\n",
       "    </tr>\n",
       "    <tr>\n",
       "      <td>922</td>\n",
       "      <td>5995</td>\n",
       "      <td>MN</td>\n",
       "      <td>MN</td>\n",
       "      <td>27</td>\n",
       "      <td>55363</td>\n",
       "      <td>5</td>\n",
       "      <td>1</td>\n",
       "      <td>0</td>\n",
       "      <td>4</td>\n",
       "      <td>Y</td>\n",
       "      <td>...</td>\n",
       "      <td>1146.499190</td>\n",
       "      <td>0</td>\n",
       "      <td>0</td>\n",
       "      <td>171</td>\n",
       "      <td>WRIGHT</td>\n",
       "      <td>27171</td>\n",
       "      <td>0.913909</td>\n",
       "      <td>83</td>\n",
       "      <td>2.001480</td>\n",
       "      <td>-0.090024</td>\n",
       "    </tr>\n",
       "    <tr>\n",
       "      <td>923</td>\n",
       "      <td>5996</td>\n",
       "      <td>MN</td>\n",
       "      <td>MN</td>\n",
       "      <td>27</td>\n",
       "      <td>55376</td>\n",
       "      <td>5</td>\n",
       "      <td>1</td>\n",
       "      <td>0</td>\n",
       "      <td>7</td>\n",
       "      <td>Y</td>\n",
       "      <td>...</td>\n",
       "      <td>1105.956867</td>\n",
       "      <td>0</td>\n",
       "      <td>0</td>\n",
       "      <td>171</td>\n",
       "      <td>WRIGHT</td>\n",
       "      <td>27171</td>\n",
       "      <td>0.913909</td>\n",
       "      <td>83</td>\n",
       "      <td>1.704748</td>\n",
       "      <td>-0.090024</td>\n",
       "    </tr>\n",
       "    <tr>\n",
       "      <td>924</td>\n",
       "      <td>5997</td>\n",
       "      <td>MN</td>\n",
       "      <td>MN</td>\n",
       "      <td>27</td>\n",
       "      <td>55376</td>\n",
       "      <td>5</td>\n",
       "      <td>1</td>\n",
       "      <td>0</td>\n",
       "      <td>4</td>\n",
       "      <td>Y</td>\n",
       "      <td>...</td>\n",
       "      <td>1214.922779</td>\n",
       "      <td>0</td>\n",
       "      <td>0</td>\n",
       "      <td>171</td>\n",
       "      <td>WRIGHT</td>\n",
       "      <td>27171</td>\n",
       "      <td>0.913909</td>\n",
       "      <td>83</td>\n",
       "      <td>1.791759</td>\n",
       "      <td>-0.090024</td>\n",
       "    </tr>\n",
       "    <tr>\n",
       "      <td>925</td>\n",
       "      <td>5998</td>\n",
       "      <td>MN</td>\n",
       "      <td>MN</td>\n",
       "      <td>27</td>\n",
       "      <td>56297</td>\n",
       "      <td>5</td>\n",
       "      <td>1</td>\n",
       "      <td>0</td>\n",
       "      <td>4</td>\n",
       "      <td>Y</td>\n",
       "      <td>...</td>\n",
       "      <td>1177.377355</td>\n",
       "      <td>0</td>\n",
       "      <td>0</td>\n",
       "      <td>173</td>\n",
       "      <td>YELLOW MEDICINE</td>\n",
       "      <td>27173</td>\n",
       "      <td>1.426590</td>\n",
       "      <td>84</td>\n",
       "      <td>1.547563</td>\n",
       "      <td>0.355287</td>\n",
       "    </tr>\n",
       "    <tr>\n",
       "      <td>926</td>\n",
       "      <td>5999</td>\n",
       "      <td>MN</td>\n",
       "      <td>MN</td>\n",
       "      <td>27</td>\n",
       "      <td>56297</td>\n",
       "      <td>5</td>\n",
       "      <td>1</td>\n",
       "      <td>0</td>\n",
       "      <td>4</td>\n",
       "      <td>Y</td>\n",
       "      <td>...</td>\n",
       "      <td>1214.922779</td>\n",
       "      <td>0</td>\n",
       "      <td>0</td>\n",
       "      <td>173</td>\n",
       "      <td>YELLOW MEDICINE</td>\n",
       "      <td>27173</td>\n",
       "      <td>1.426590</td>\n",
       "      <td>84</td>\n",
       "      <td>1.360977</td>\n",
       "      <td>0.355287</td>\n",
       "    </tr>\n",
       "  </tbody>\n",
       "</table>\n",
       "<p>919 rows × 30 columns</p>\n",
       "</div>"
      ],
      "text/plain": [
       "     idnum state state2  stfips    zip  region  typebldg  floor  room  \\\n",
       "0     5081    MN     MN      27  55735       5         1      1     3   \n",
       "1     5082    MN     MN      27  55748       5         1      0     4   \n",
       "2     5083    MN     MN      27  55748       5         1      0     4   \n",
       "3     5084    MN     MN      27  56469       5         1      0     4   \n",
       "4     5085    MN     MN      27  55011       3         1      0     4   \n",
       "..     ...   ...    ...     ...    ...     ...       ...    ...   ...   \n",
       "922   5995    MN     MN      27  55363       5         1      0     4   \n",
       "923   5996    MN     MN      27  55376       5         1      0     7   \n",
       "924   5997    MN     MN      27  55376       5         1      0     4   \n",
       "925   5998    MN     MN      27  56297       5         1      0     4   \n",
       "926   5999    MN     MN      27  56297       5         1      0     4   \n",
       "\n",
       "    basement  ...        adjwt dupflag  zipflag cntyfips           county  \\\n",
       "0          N  ...  1146.499190       1        0        1           AITKIN   \n",
       "1          Y  ...   471.366223       0        0        1           AITKIN   \n",
       "2          Y  ...   433.316718       0        0        1           AITKIN   \n",
       "3          Y  ...   461.623670       0        0        1           AITKIN   \n",
       "4          Y  ...   433.316718       0        0        3            ANOKA   \n",
       "..       ...  ...          ...     ...      ...      ...              ...   \n",
       "922        Y  ...  1146.499190       0        0      171           WRIGHT   \n",
       "923        Y  ...  1105.956867       0        0      171           WRIGHT   \n",
       "924        Y  ...  1214.922779       0        0      171           WRIGHT   \n",
       "925        Y  ...  1177.377355       0        0      173  YELLOW MEDICINE   \n",
       "926        Y  ...  1214.922779       0        0      173  YELLOW MEDICINE   \n",
       "\n",
       "      fips      Uppm  county_code  log_radon         u  \n",
       "0    27001  0.502054            0   1.163151 -0.689048  \n",
       "1    27001  0.502054            0   1.163151 -0.689048  \n",
       "2    27001  0.502054            0   1.360977 -0.689048  \n",
       "3    27001  0.502054            0   0.693147 -0.689048  \n",
       "4    27003  0.428565            1   1.410987 -0.847313  \n",
       "..     ...       ...          ...        ...       ...  \n",
       "922  27171  0.913909           83   2.001480 -0.090024  \n",
       "923  27171  0.913909           83   1.704748 -0.090024  \n",
       "924  27171  0.913909           83   1.791759 -0.090024  \n",
       "925  27173  1.426590           84   1.547563  0.355287  \n",
       "926  27173  1.426590           84   1.360977  0.355287  \n",
       "\n",
       "[919 rows x 30 columns]"
      ]
     },
     "execution_count": 3,
     "metadata": {},
     "output_type": "execute_result"
    }
   ],
   "source": [
    "srrs_mn, county, county_lookup = load_data()\n",
    "\n",
    "srrs_mn"
   ]
  },
  {
   "cell_type": "code",
   "execution_count": 4,
   "metadata": {
    "slideshow": {
     "slide_type": "slide"
    }
   },
   "outputs": [
    {
     "data": {
      "text/plain": [
       "<matplotlib.axes._subplots.AxesSubplot at 0x11e064eb8>"
      ]
     },
     "execution_count": 4,
     "metadata": {},
     "output_type": "execute_result"
    },
    {
     "data": {
      "image/png": "[encoded data removed]",
      "text/plain": [
       "<Figure size 432x288 with 1 Axes>"
      ]
     },
     "metadata": {
      "needs_background": "light"
     },
     "output_type": "display_data"
    }
   ],
   "source": [
    "srrs_mn.log_radon.hist(bins=25)"
   ]
  },
  {
   "cell_type": "markdown",
   "metadata": {
    "slideshow": {
     "slide_type": "slide"
    }
   },
   "source": [
    "Linear regression:\n",
    "\n",
    "$$ y = \\alpha + \\beta X + \\varepsilon $$\n",
    "\n",
    "- $y$ is the output we want to predict (or dependent variable).\n",
    "- $X$ is our predictor (or independent variable).\n",
    "- $\\alpha$ and $\\beta$ are the coefficients of the model.\n",
    "- $\\varepsilon$ is error term (assumed to be normally distributed)."
   ]
  },
  {
   "cell_type": "markdown",
   "metadata": {
    "slideshow": {
     "slide_type": "slide"
    }
   },
   "source": [
    "Probabilistic reformulation:\n",
    "\n",
    "$$ y \\sim \\mathcal{N}\\left( \\alpha + \\beta X, \\sigma^2 \\right) $$ \n",
    "\n",
    "- we view $y$ as a random variable of which each element  is distributed according to a Normal distribution. \n",
    "- The mean of this normal distribution is provided by our linear predictor with variance $\\sigma^2$.\n",
    "\n",
    "While this is essentially the same model, there are two critical advantages of Bayesian estimation:\n",
    "\n",
    "- Priors: We can quantify any prior knowledge we might have by placing priors on the paramters. \n",
    "\n",
    "For example, if we think that σ is likely to be small we would choose a prior with more probability mass on low values.\n",
    "\n",
    "- Quantifying uncertainty: We do not get a single estimate of $\\beta$ as above but instead a complete posterior distribution about how likely different values of $\\beta$ are. \n",
    "\n",
    "For example, with few data points our uncertainty in $\\beta$ will be very high and we'd be getting very wide posteriors."
   ]
  },
  {
   "cell_type": "markdown",
   "metadata": {
    "slideshow": {
     "slide_type": "slide"
    }
   },
   "source": [
    "The two conventional alternatives to modeling radon exposure represent the two extremes of the bias-variance tradeoff:\n",
    "\n",
    "### Pooled model\n",
    "\n",
    "Treat all counties the same, estimate a single Radon level\n",
    "\n",
    "$$ y_{i} = \\alpha + \\beta X_{i} + \\varepsilon_i $$ \n",
    "\n",
    "- estimating one intercept and slope for all counties.\n",
    "- i.e $X_i$ is a binary indicator of a basement present\n",
    "\n"
   ]
  },
  {
   "cell_type": "markdown",
   "metadata": {
    "slideshow": {
     "slide_type": "slide"
    }
   },
   "source": [
    "When we pool our data, we imply that they are sampled from the same model. This ignores any variation among sampling units (other than sampling variance):\n",
    "![title](pooled.png)"
   ]
  },
  {
   "cell_type": "code",
   "execution_count": 5,
   "metadata": {
    "slideshow": {
     "slide_type": "skip"
    }
   },
   "outputs": [],
   "source": [
    "import pymc3 as pm\n",
    "\n",
    "\n",
    "class ObserverModel(pm.Model):\n",
    "    \"\"\"Stores observed variables until the model is created.\"\"\"\n",
    "    def __init__(self, observed):\n",
    "        self.observed = observed\n",
    "        super(ObserverModel, self).__init__()\n",
    "\n",
    "    def Var(self, name, dist, data=None, total_size=None):\n",
    "        return super(ObserverModel, self).Var(name, dist, data=self.observed.get(name, data), total_size=total_size)\n",
    "\n",
    "\n",
    "def sampled(f):\n",
    "    \"\"\"Decorator to delay initializing pymc3 model until data is passed in.\"\"\"\n",
    "    def wrapped_f(**observed):\n",
    "        try:\n",
    "            with ObserverModel(observed) as model:\n",
    "                f(**observed)\n",
    "        except TypeError:\n",
    "            with ObserverModel(observed) as model:\n",
    "                f()\n",
    "        return model\n",
    "    return wrapped_f"
   ]
  },
  {
   "cell_type": "code",
   "execution_count": 6,
   "metadata": {
    "slideshow": {
     "slide_type": "slide"
    }
   },
   "outputs": [],
   "source": [
    "from pymc3 import Model, sample, Normal, HalfCauchy, Uniform, model_to_graphviz\n",
    "\n",
    "floor = srrs_mn.floor.values\n",
    "log_radon = srrs_mn.log_radon.values\n",
    "\n",
    "@sampled\n",
    "def pooled_model(X, y):\n",
    "    beta = Normal('beta', 0, sd=1.0, shape=2)\n",
    "    sigma = HalfCauchy('sigma', 5)\n",
    "    theta = beta[0] + beta[1]*floor\n",
    "    y = Normal('y', theta, sd=sigma, observed=log_radon)"
   ]
  },
  {
   "cell_type": "code",
   "execution_count": 7,
   "metadata": {
    "slideshow": {
     "slide_type": "slide"
    }
   },
   "outputs": [
    {
     "name": "stderr",
     "output_type": "stream",
     "text": [
      "Auto-assigning NUTS sampler...\n",
      "Initializing NUTS using jitter+adapt_diag...\n",
      "Multiprocess sampling (2 chains in 2 jobs)\n",
      "NUTS: [sigma, beta]\n",
      "Sampling 2 chains: 100%|██████████| 3000/3000 [00:01<00:00, 1698.17draws/s]\n"
     ]
    }
   ],
   "source": [
    "with pooled_model(X=floor, y=log_radon):\n",
    "    pooled_trace = sample(1000)"
   ]
  },
  {
   "cell_type": "markdown",
   "metadata": {},
   "source": [
    "### Unpooled model\n",
    "\n",
    "Model radon in each county independently.\n",
    "\n",
    "\n",
    "$$ y_{i} = \\alpha_{j[i]} + \\beta X_{i} + \\varepsilon_i $$ \n",
    "\n",
    "- estimating $n$ different intercepts and slopes"
   ]
  },
  {
   "cell_type": "markdown",
   "metadata": {
    "slideshow": {
     "slide_type": "slide"
    }
   },
   "source": [
    "When we analyze data unpooled, we imply that they are sampled independently from separate models. At the opposite extreme from the pooled case, this approach claims that differences between sampling units are to large to combine them:\n",
    "![title](unpooled.png)"
   ]
  },
  {
   "cell_type": "code",
   "execution_count": 8,
   "metadata": {
    "slideshow": {
     "slide_type": "skip"
    }
   },
   "outputs": [],
   "source": [
    "from statsmodels.formula.api import ols\n",
    "unpooled_fit = ols('log_radon ~ C(county) + floor - 1', srrs_mn).fit()\n",
    "unpooled_estimates = unpooled_fit.params\n",
    "\n",
    "b0, m0 = pooled_trace['beta'].mean(axis=0)"
   ]
  },
  {
   "cell_type": "code",
   "execution_count": 9,
   "metadata": {
    "slideshow": {
     "slide_type": "skip"
    }
   },
   "outputs": [],
   "source": [
    "unpooled_estimates = unpooled_estimates.rename(dict(zip(unpooled_estimates.index.values,[x[10:-1] or x for x in unpooled_estimates.index.values])))\n",
    "unpooled_se = unpooled_fit.HC3_se.rename(dict(zip(unpooled_fit.HC3_se.index.values, [x[10:-1] or x for x in unpooled_fit.HC3_se.index.values])))"
   ]
  },
  {
   "cell_type": "code",
   "execution_count": 10,
   "metadata": {
    "slideshow": {
     "slide_type": "skip"
    }
   },
   "outputs": [
    {
     "data": {
      "image/png": "[encoded data removed]",
      "text/plain": [
       "<Figure size 432x288 with 1 Axes>"
      ]
     },
     "metadata": {
      "needs_background": "light"
     },
     "output_type": "display_data"
    }
   ],
   "source": [
    "order = unpooled_estimates.sort_values()[1:].index\n",
    "\n",
    "plt.scatter(range(len(unpooled_estimates)-1), unpooled_estimates[order])\n",
    "for i, m, se in zip(range(len(unpooled_estimates)-1), unpooled_estimates[order], unpooled_se[order]): \n",
    "    plt.plot([i,i], [m-se, m+se], 'b-')\n",
    "plt.xlim(-1,86); plt.ylim(-1,4)\n",
    "plt.ylabel('Radon estimate');plt.xlabel('Ordered county');"
   ]
  },
  {
   "cell_type": "code",
   "execution_count": 13,
   "metadata": {
    "slideshow": {
     "slide_type": "slide"
    }
   },
   "outputs": [
    {
     "name": "stderr",
     "output_type": "stream",
     "text": [
      "/Users/thomas.kealy/anaconda3/envs/bayeslal/lib/python3.6/site-packages/ipykernel_launcher.py:4: FutureWarning: \n",
      ".ix is deprecated. Please use\n",
      ".loc for label based indexing or\n",
      ".iloc for positional indexing\n",
      "\n",
      "See the documentation here:\n",
      "http://pandas.pydata.org/pandas-docs/stable/user_guide/indexing.html#ix-indexer-is-deprecated\n",
      "  after removing the cwd from sys.path.\n",
      "Auto-assigning NUTS sampler...\n",
      "Initializing NUTS using jitter+adapt_diag...\n",
      "Multiprocess sampling (2 chains in 2 jobs)\n",
      "NUTS: [eps, beta, alpha]\n",
      "The number of effective samples is smaller than 25% for some parameters.\n",
      "/Users/thomas.kealy/anaconda3/envs/bayeslal/lib/python3.6/site-packages/ipykernel_launcher.py:4: FutureWarning: \n",
      ".ix is deprecated. Please use\n",
      ".loc for label based indexing or\n",
      ".iloc for positional indexing\n",
      "\n",
      "See the documentation here:\n",
      "http://pandas.pydata.org/pandas-docs/stable/user_guide/indexing.html#ix-indexer-is-deprecated\n",
      "  after removing the cwd from sys.path.\n",
      "Auto-assigning NUTS sampler...\n",
      "Initializing NUTS using jitter+adapt_diag...\n",
      "Multiprocess sampling (2 chains in 2 jobs)\n",
      "NUTS: [eps, beta, alpha]\n",
      "Auto-assigning NUTS sampler...\n",
      "Initializing NUTS using jitter+adapt_diag...\n",
      "Multiprocess sampling (2 chains in 2 jobs)\n",
      "NUTS: [eps, beta, alpha]\n",
      "There were 2 divergences after tuning. Increase `target_accept` or reparameterize.\n",
      "There was 1 divergence after tuning. Increase `target_accept` or reparameterize.\n",
      "Auto-assigning NUTS sampler...\n",
      "Initializing NUTS using jitter+adapt_diag...\n",
      "Multiprocess sampling (2 chains in 2 jobs)\n",
      "NUTS: [eps, beta, alpha]\n",
      "The acceptance probability does not match the target. It is 0.891868255051998, but should be close to 0.8. Try to increase the number of tuning steps.\n",
      "Auto-assigning NUTS sampler...\n",
      "Initializing NUTS using jitter+adapt_diag...\n",
      "Multiprocess sampling (2 chains in 2 jobs)\n",
      "NUTS: [eps, beta, alpha]\n",
      "Auto-assigning NUTS sampler...\n",
      "Initializing NUTS using jitter+adapt_diag...\n",
      "Multiprocess sampling (2 chains in 2 jobs)\n",
      "NUTS: [eps, beta, alpha]\n",
      "/Users/thomas.kealy/anaconda3/envs/bayeslal/lib/python3.6/site-packages/ipykernel_launcher.py:4: FutureWarning: \n",
      ".ix is deprecated. Please use\n",
      ".loc for label based indexing or\n",
      ".iloc for positional indexing\n",
      "\n",
      "See the documentation here:\n",
      "http://pandas.pydata.org/pandas-docs/stable/user_guide/indexing.html#ix-indexer-is-deprecated\n",
      "  after removing the cwd from sys.path.\n",
      "Auto-assigning NUTS sampler...\n",
      "Initializing NUTS using jitter+adapt_diag...\n",
      "Multiprocess sampling (2 chains in 2 jobs)\n",
      "NUTS: [eps, beta, alpha]\n",
      "Auto-assigning NUTS sampler...\n",
      "Initializing NUTS using jitter+adapt_diag...\n",
      "Multiprocess sampling (2 chains in 2 jobs)\n",
      "NUTS: [eps, beta, alpha]\n",
      "There were 8 divergences after tuning. Increase `target_accept` or reparameterize.\n",
      "The acceptance probability does not match the target. It is 0.6928050042581262, but should be close to 0.8. Try to increase the number of tuning steps.\n",
      "There were 11 divergences after tuning. Increase `target_accept` or reparameterize.\n",
      "The acceptance probability does not match the target. It is 0.6507110743473414, but should be close to 0.8. Try to increase the number of tuning steps.\n",
      "The estimated number of effective samples is smaller than 200 for some parameters.\n",
      "Auto-assigning NUTS sampler...\n",
      "Initializing NUTS using jitter+adapt_diag...\n",
      "Multiprocess sampling (2 chains in 2 jobs)\n",
      "NUTS: [eps, beta, alpha]\n",
      "Auto-assigning NUTS sampler...\n",
      "Initializing NUTS using jitter+adapt_diag...\n",
      "Multiprocess sampling (2 chains in 2 jobs)\n",
      "NUTS: [eps, beta, alpha]\n",
      "Auto-assigning NUTS sampler...\n",
      "Initializing NUTS using jitter+adapt_diag...\n",
      "Multiprocess sampling (2 chains in 2 jobs)\n",
      "NUTS: [eps, beta, alpha]\n",
      "Auto-assigning NUTS sampler...\n",
      "Initializing NUTS using jitter+adapt_diag...\n",
      "Multiprocess sampling (2 chains in 2 jobs)\n",
      "NUTS: [eps, beta, alpha]\n",
      "The acceptance probability does not match the target. It is 0.9018295505320495, but should be close to 0.8. Try to increase the number of tuning steps.\n",
      "Auto-assigning NUTS sampler...\n",
      "Initializing NUTS using jitter+adapt_diag...\n",
      "Multiprocess sampling (2 chains in 2 jobs)\n",
      "NUTS: [eps, beta, alpha]\n",
      "Auto-assigning NUTS sampler...\n",
      "Initializing NUTS using jitter+adapt_diag...\n",
      "Multiprocess sampling (2 chains in 2 jobs)\n",
      "NUTS: [eps, beta, alpha]\n",
      "Auto-assigning NUTS sampler...\n",
      "Initializing NUTS using jitter+adapt_diag...\n",
      "Multiprocess sampling (2 chains in 2 jobs)\n",
      "NUTS: [eps, beta, alpha]\n",
      "The acceptance probability does not match the target. It is 0.8891746043553197, but should be close to 0.8. Try to increase the number of tuning steps.\n",
      "Auto-assigning NUTS sampler...\n",
      "Initializing NUTS using jitter+adapt_diag...\n",
      "Multiprocess sampling (2 chains in 2 jobs)\n",
      "NUTS: [eps, beta, alpha]\n",
      "Auto-assigning NUTS sampler...\n",
      "Initializing NUTS using jitter+adapt_diag...\n",
      "Multiprocess sampling (2 chains in 2 jobs)\n",
      "NUTS: [eps, beta, alpha]\n",
      "Auto-assigning NUTS sampler...\n",
      "Initializing NUTS using jitter+adapt_diag...\n",
      "Multiprocess sampling (2 chains in 2 jobs)\n",
      "NUTS: [eps, beta, alpha]\n",
      "Auto-assigning NUTS sampler...\n",
      "Initializing NUTS using jitter+adapt_diag...\n",
      "Multiprocess sampling (2 chains in 2 jobs)\n",
      "NUTS: [eps, beta, alpha]\n",
      "Auto-assigning NUTS sampler...\n",
      "Initializing NUTS using jitter+adapt_diag...\n",
      "Multiprocess sampling (2 chains in 2 jobs)\n",
      "NUTS: [eps, beta, alpha]\n",
      "There were 10 divergences after tuning. Increase `target_accept` or reparameterize.\n",
      "The acceptance probability does not match the target. It is 0.6879469979368729, but should be close to 0.8. Try to increase the number of tuning steps.\n",
      "The acceptance probability does not match the target. It is 0.9617623300642584, but should be close to 0.8. Try to increase the number of tuning steps.\n",
      "The estimated number of effective samples is smaller than 200 for some parameters.\n",
      "Auto-assigning NUTS sampler...\n",
      "Initializing NUTS using jitter+adapt_diag...\n",
      "Multiprocess sampling (2 chains in 2 jobs)\n",
      "NUTS: [eps, beta, alpha]\n",
      "Auto-assigning NUTS sampler...\n",
      "Initializing NUTS using jitter+adapt_diag...\n",
      "Multiprocess sampling (2 chains in 2 jobs)\n",
      "NUTS: [eps, beta, alpha]\n",
      "Auto-assigning NUTS sampler...\n",
      "Initializing NUTS using jitter+adapt_diag...\n",
      "Multiprocess sampling (2 chains in 2 jobs)\n",
      "NUTS: [eps, beta, alpha]\n",
      "There were 14 divergences after tuning. Increase `target_accept` or reparameterize.\n",
      "There were 14 divergences after tuning. Increase `target_accept` or reparameterize.\n",
      "Auto-assigning NUTS sampler...\n",
      "Initializing NUTS using jitter+adapt_diag...\n",
      "Multiprocess sampling (2 chains in 2 jobs)\n",
      "NUTS: [eps, beta, alpha]\n",
      "Auto-assigning NUTS sampler...\n",
      "Initializing NUTS using jitter+adapt_diag...\n",
      "Multiprocess sampling (2 chains in 2 jobs)\n",
      "NUTS: [eps, beta, alpha]\n",
      "Auto-assigning NUTS sampler...\n",
      "Initializing NUTS using jitter+adapt_diag...\n",
      "Multiprocess sampling (2 chains in 2 jobs)\n",
      "NUTS: [eps, beta, alpha]\n",
      "Auto-assigning NUTS sampler...\n",
      "Initializing NUTS using jitter+adapt_diag...\n",
      "Multiprocess sampling (2 chains in 2 jobs)\n",
      "NUTS: [eps, beta, alpha]\n",
      "Auto-assigning NUTS sampler...\n",
      "Initializing NUTS using jitter+adapt_diag...\n",
      "Multiprocess sampling (2 chains in 2 jobs)\n",
      "NUTS: [eps, beta, alpha]\n",
      "Auto-assigning NUTS sampler...\n",
      "Initializing NUTS using jitter+adapt_diag...\n",
      "Multiprocess sampling (2 chains in 2 jobs)\n",
      "NUTS: [eps, beta, alpha]\n",
      "The estimated number of effective samples is smaller than 200 for some parameters.\n",
      "Auto-assigning NUTS sampler...\n",
      "Initializing NUTS using jitter+adapt_diag...\n",
      "Multiprocess sampling (2 chains in 2 jobs)\n",
      "NUTS: [eps, beta, alpha]\n",
      "Auto-assigning NUTS sampler...\n",
      "Initializing NUTS using jitter+adapt_diag...\n",
      "Multiprocess sampling (2 chains in 2 jobs)\n",
      "NUTS: [eps, beta, alpha]\n",
      "The acceptance probability does not match the target. It is 0.887722731593291, but should be close to 0.8. Try to increase the number of tuning steps.\n",
      "Auto-assigning NUTS sampler...\n",
      "Initializing NUTS using jitter+adapt_diag...\n",
      "Multiprocess sampling (2 chains in 2 jobs)\n",
      "NUTS: [eps, beta, alpha]\n",
      "Auto-assigning NUTS sampler...\n",
      "Initializing NUTS using jitter+adapt_diag...\n",
      "Multiprocess sampling (2 chains in 2 jobs)\n",
      "NUTS: [eps, beta, alpha]\n",
      "The number of effective samples is smaller than 25% for some parameters.\n",
      "Auto-assigning NUTS sampler...\n",
      "Initializing NUTS using jitter+adapt_diag...\n",
      "Multiprocess sampling (2 chains in 2 jobs)\n",
      "NUTS: [eps, beta, alpha]\n"
     ]
    },
    {
     "name": "stderr",
     "output_type": "stream",
     "text": [
      "There was 1 divergence after tuning. Increase `target_accept` or reparameterize.\n",
      "Auto-assigning NUTS sampler...\n",
      "Initializing NUTS using jitter+adapt_diag...\n",
      "Multiprocess sampling (2 chains in 2 jobs)\n",
      "NUTS: [eps, beta, alpha]\n",
      "The acceptance probability does not match the target. It is 0.889021484512857, but should be close to 0.8. Try to increase the number of tuning steps.\n",
      "Auto-assigning NUTS sampler...\n",
      "Initializing NUTS using jitter+adapt_diag...\n",
      "Multiprocess sampling (2 chains in 2 jobs)\n",
      "NUTS: [eps, beta, alpha]\n",
      "There were 13 divergences after tuning. Increase `target_accept` or reparameterize.\n",
      "There were 17 divergences after tuning. Increase `target_accept` or reparameterize.\n",
      "The number of effective samples is smaller than 25% for some parameters.\n",
      "Auto-assigning NUTS sampler...\n",
      "Initializing NUTS using jitter+adapt_diag...\n",
      "Multiprocess sampling (2 chains in 2 jobs)\n",
      "NUTS: [eps, beta, alpha]\n",
      "Auto-assigning NUTS sampler...\n",
      "Initializing NUTS using jitter+adapt_diag...\n",
      "Multiprocess sampling (2 chains in 2 jobs)\n",
      "NUTS: [eps, beta, alpha]\n",
      "Auto-assigning NUTS sampler...\n",
      "Initializing NUTS using jitter+adapt_diag...\n",
      "Multiprocess sampling (2 chains in 2 jobs)\n",
      "NUTS: [eps, beta, alpha]\n",
      "The acceptance probability does not match the target. It is 0.9004489768716644, but should be close to 0.8. Try to increase the number of tuning steps.\n",
      "Auto-assigning NUTS sampler...\n",
      "Initializing NUTS using jitter+adapt_diag...\n",
      "Multiprocess sampling (2 chains in 2 jobs)\n",
      "NUTS: [eps, beta, alpha]\n",
      "The number of effective samples is smaller than 25% for some parameters.\n",
      "Auto-assigning NUTS sampler...\n",
      "Initializing NUTS using jitter+adapt_diag...\n",
      "Multiprocess sampling (2 chains in 2 jobs)\n",
      "NUTS: [eps, beta, alpha]\n",
      "Auto-assigning NUTS sampler...\n",
      "Initializing NUTS using jitter+adapt_diag...\n",
      "Multiprocess sampling (2 chains in 2 jobs)\n",
      "NUTS: [eps, beta, alpha]\n",
      "There were 29 divergences after tuning. Increase `target_accept` or reparameterize.\n",
      "The acceptance probability does not match the target. It is 0.7045464536511192, but should be close to 0.8. Try to increase the number of tuning steps.\n",
      "There were 15 divergences after tuning. Increase `target_accept` or reparameterize.\n",
      "The number of effective samples is smaller than 25% for some parameters.\n",
      "/Users/thomas.kealy/anaconda3/envs/bayeslal/lib/python3.6/site-packages/ipykernel_launcher.py:4: FutureWarning: \n",
      ".ix is deprecated. Please use\n",
      ".loc for label based indexing or\n",
      ".iloc for positional indexing\n",
      "\n",
      "See the documentation here:\n",
      "http://pandas.pydata.org/pandas-docs/stable/user_guide/indexing.html#ix-indexer-is-deprecated\n",
      "  after removing the cwd from sys.path.\n",
      "Auto-assigning NUTS sampler...\n",
      "Initializing NUTS using jitter+adapt_diag...\n",
      "Multiprocess sampling (2 chains in 2 jobs)\n",
      "NUTS: [eps, beta, alpha]\n",
      "There was 1 divergence after tuning. Increase `target_accept` or reparameterize.\n",
      "Auto-assigning NUTS sampler...\n",
      "Initializing NUTS using jitter+adapt_diag...\n",
      "Multiprocess sampling (2 chains in 2 jobs)\n",
      "NUTS: [eps, beta, alpha]\n",
      "Auto-assigning NUTS sampler...\n",
      "Initializing NUTS using jitter+adapt_diag...\n",
      "Multiprocess sampling (2 chains in 2 jobs)\n",
      "NUTS: [eps, beta, alpha]\n",
      "Auto-assigning NUTS sampler...\n",
      "Initializing NUTS using jitter+adapt_diag...\n",
      "Multiprocess sampling (2 chains in 2 jobs)\n",
      "NUTS: [eps, beta, alpha]\n",
      "Auto-assigning NUTS sampler...\n",
      "Initializing NUTS using jitter+adapt_diag...\n",
      "Multiprocess sampling (2 chains in 2 jobs)\n",
      "NUTS: [eps, beta, alpha]\n",
      "There were 63 divergences after tuning. Increase `target_accept` or reparameterize.\n",
      "The acceptance probability does not match the target. It is 0.5857243414770342, but should be close to 0.8. Try to increase the number of tuning steps.\n",
      "There were 32 divergences after tuning. Increase `target_accept` or reparameterize.\n",
      "The acceptance probability does not match the target. It is 0.6963140711549473, but should be close to 0.8. Try to increase the number of tuning steps.\n",
      "The estimated number of effective samples is smaller than 200 for some parameters.\n",
      "Auto-assigning NUTS sampler...\n",
      "Initializing NUTS using jitter+adapt_diag...\n",
      "Multiprocess sampling (2 chains in 2 jobs)\n",
      "NUTS: [eps, beta, alpha]\n",
      "Auto-assigning NUTS sampler...\n",
      "Initializing NUTS using jitter+adapt_diag...\n",
      "Multiprocess sampling (2 chains in 2 jobs)\n",
      "NUTS: [eps, beta, alpha]\n",
      "Auto-assigning NUTS sampler...\n",
      "Initializing NUTS using jitter+adapt_diag...\n",
      "Multiprocess sampling (2 chains in 2 jobs)\n",
      "NUTS: [eps, beta, alpha]\n",
      "There were 11 divergences after tuning. Increase `target_accept` or reparameterize.\n",
      "There were 7 divergences after tuning. Increase `target_accept` or reparameterize.\n",
      "Auto-assigning NUTS sampler...\n",
      "Initializing NUTS using jitter+adapt_diag...\n",
      "Multiprocess sampling (2 chains in 2 jobs)\n",
      "NUTS: [eps, beta, alpha]\n",
      "Auto-assigning NUTS sampler...\n",
      "Initializing NUTS using jitter+adapt_diag...\n",
      "Multiprocess sampling (2 chains in 2 jobs)\n",
      "NUTS: [eps, beta, alpha]\n",
      "The number of effective samples is smaller than 25% for some parameters.\n",
      "Auto-assigning NUTS sampler...\n",
      "Initializing NUTS using jitter+adapt_diag...\n",
      "Multiprocess sampling (2 chains in 2 jobs)\n",
      "NUTS: [eps, beta, alpha]\n",
      "Auto-assigning NUTS sampler...\n",
      "Initializing NUTS using jitter+adapt_diag...\n",
      "Multiprocess sampling (2 chains in 2 jobs)\n",
      "NUTS: [eps, beta, alpha]\n",
      "Auto-assigning NUTS sampler...\n",
      "Initializing NUTS using jitter+adapt_diag...\n",
      "Multiprocess sampling (2 chains in 2 jobs)\n",
      "NUTS: [eps, beta, alpha]\n",
      "Auto-assigning NUTS sampler...\n",
      "Initializing NUTS using jitter+adapt_diag...\n",
      "Multiprocess sampling (2 chains in 2 jobs)\n",
      "NUTS: [eps, beta, alpha]\n",
      "Auto-assigning NUTS sampler...\n",
      "Initializing NUTS using jitter+adapt_diag...\n",
      "Multiprocess sampling (2 chains in 2 jobs)\n",
      "NUTS: [eps, beta, alpha]\n",
      "The acceptance probability does not match the target. It is 0.8803246470614009, but should be close to 0.8. Try to increase the number of tuning steps.\n",
      "Auto-assigning NUTS sampler...\n",
      "Initializing NUTS using jitter+adapt_diag...\n",
      "Multiprocess sampling (2 chains in 2 jobs)\n",
      "NUTS: [eps, beta, alpha]\n",
      "Auto-assigning NUTS sampler...\n",
      "Initializing NUTS using jitter+adapt_diag...\n",
      "Multiprocess sampling (2 chains in 2 jobs)\n",
      "NUTS: [eps, beta, alpha]\n",
      "There were 14 divergences after tuning. Increase `target_accept` or reparameterize.\n",
      "The acceptance probability does not match the target. It is 0.6884285483419331, but should be close to 0.8. Try to increase the number of tuning steps.\n",
      "There were 3 divergences after tuning. Increase `target_accept` or reparameterize.\n",
      "The gelman-rubin statistic is larger than 1.05 for some parameters. This indicates slight problems during sampling.\n",
      "The estimated number of effective samples is smaller than 200 for some parameters.\n",
      "Auto-assigning NUTS sampler...\n",
      "Initializing NUTS using jitter+adapt_diag...\n",
      "Multiprocess sampling (2 chains in 2 jobs)\n",
      "NUTS: [eps, beta, alpha]\n",
      "There were 26 divergences after tuning. Increase `target_accept` or reparameterize.\n",
      "There were 12 divergences after tuning. Increase `target_accept` or reparameterize.\n",
      "The estimated number of effective samples is smaller than 200 for some parameters.\n",
      "Auto-assigning NUTS sampler...\n",
      "Initializing NUTS using jitter+adapt_diag...\n",
      "Multiprocess sampling (2 chains in 2 jobs)\n",
      "NUTS: [eps, beta, alpha]\n",
      "Auto-assigning NUTS sampler...\n",
      "Initializing NUTS using jitter+adapt_diag...\n",
      "Multiprocess sampling (2 chains in 2 jobs)\n",
      "NUTS: [eps, beta, alpha]\n",
      "The number of effective samples is smaller than 25% for some parameters.\n",
      "Auto-assigning NUTS sampler...\n",
      "Initializing NUTS using jitter+adapt_diag...\n",
      "Multiprocess sampling (2 chains in 2 jobs)\n",
      "NUTS: [eps, beta, alpha]\n",
      "The number of effective samples is smaller than 25% for some parameters.\n",
      "Auto-assigning NUTS sampler...\n",
      "Initializing NUTS using jitter+adapt_diag...\n",
      "Multiprocess sampling (2 chains in 2 jobs)\n",
      "NUTS: [eps, beta, alpha]\n",
      "Auto-assigning NUTS sampler...\n",
      "Initializing NUTS using jitter+adapt_diag...\n",
      "Multiprocess sampling (2 chains in 2 jobs)\n",
      "NUTS: [eps, beta, alpha]\n",
      "Auto-assigning NUTS sampler...\n",
      "Initializing NUTS using jitter+adapt_diag...\n",
      "Multiprocess sampling (2 chains in 2 jobs)\n",
      "NUTS: [eps, beta, alpha]\n",
      "Auto-assigning NUTS sampler...\n",
      "Initializing NUTS using jitter+adapt_diag...\n",
      "Multiprocess sampling (2 chains in 2 jobs)\n",
      "NUTS: [eps, beta, alpha]\n",
      "Auto-assigning NUTS sampler...\n",
      "Initializing NUTS using jitter+adapt_diag...\n"
     ]
    },
    {
     "name": "stderr",
     "output_type": "stream",
     "text": [
      "Multiprocess sampling (2 chains in 2 jobs)\n",
      "NUTS: [eps, beta, alpha]\n",
      "Auto-assigning NUTS sampler...\n",
      "Initializing NUTS using jitter+adapt_diag...\n",
      "Multiprocess sampling (2 chains in 2 jobs)\n",
      "NUTS: [eps, beta, alpha]\n",
      "Auto-assigning NUTS sampler...\n",
      "Initializing NUTS using jitter+adapt_diag...\n",
      "Multiprocess sampling (2 chains in 2 jobs)\n",
      "NUTS: [eps, beta, alpha]\n",
      "Auto-assigning NUTS sampler...\n",
      "Initializing NUTS using jitter+adapt_diag...\n",
      "Multiprocess sampling (2 chains in 2 jobs)\n",
      "NUTS: [eps, beta, alpha]\n",
      "The acceptance probability does not match the target. It is 0.8834982517123763, but should be close to 0.8. Try to increase the number of tuning steps.\n",
      "Auto-assigning NUTS sampler...\n",
      "Initializing NUTS using jitter+adapt_diag...\n",
      "Multiprocess sampling (2 chains in 2 jobs)\n",
      "NUTS: [eps, beta, alpha]\n",
      "Auto-assigning NUTS sampler...\n",
      "Initializing NUTS using jitter+adapt_diag...\n",
      "Multiprocess sampling (2 chains in 2 jobs)\n",
      "NUTS: [eps, beta, alpha]\n",
      "There were 6 divergences after tuning. Increase `target_accept` or reparameterize.\n",
      "There was 1 divergence after tuning. Increase `target_accept` or reparameterize.\n",
      "The estimated number of effective samples is smaller than 200 for some parameters.\n",
      "Auto-assigning NUTS sampler...\n",
      "Initializing NUTS using jitter+adapt_diag...\n",
      "Multiprocess sampling (2 chains in 2 jobs)\n",
      "NUTS: [eps, beta, alpha]\n",
      "Auto-assigning NUTS sampler...\n",
      "Initializing NUTS using jitter+adapt_diag...\n",
      "Multiprocess sampling (2 chains in 2 jobs)\n",
      "NUTS: [eps, beta, alpha]\n",
      "Auto-assigning NUTS sampler...\n",
      "Initializing NUTS using jitter+adapt_diag...\n",
      "Multiprocess sampling (2 chains in 2 jobs)\n",
      "NUTS: [eps, beta, alpha]\n",
      "Auto-assigning NUTS sampler...\n",
      "Initializing NUTS using jitter+adapt_diag...\n",
      "Multiprocess sampling (2 chains in 2 jobs)\n",
      "NUTS: [eps, beta, alpha]\n",
      "Auto-assigning NUTS sampler...\n",
      "Initializing NUTS using jitter+adapt_diag...\n",
      "Multiprocess sampling (2 chains in 2 jobs)\n",
      "NUTS: [eps, beta, alpha]\n",
      "The estimated number of effective samples is smaller than 200 for some parameters.\n",
      "Auto-assigning NUTS sampler...\n",
      "Initializing NUTS using jitter+adapt_diag...\n",
      "Multiprocess sampling (2 chains in 2 jobs)\n",
      "NUTS: [eps, beta, alpha]\n",
      "Auto-assigning NUTS sampler...\n",
      "Initializing NUTS using jitter+adapt_diag...\n",
      "Multiprocess sampling (2 chains in 2 jobs)\n",
      "NUTS: [eps, beta, alpha]\n",
      "Auto-assigning NUTS sampler...\n",
      "Initializing NUTS using jitter+adapt_diag...\n",
      "Multiprocess sampling (2 chains in 2 jobs)\n",
      "NUTS: [eps, beta, alpha]\n",
      "There were 16 divergences after tuning. Increase `target_accept` or reparameterize.\n",
      "There were 16 divergences after tuning. Increase `target_accept` or reparameterize.\n",
      "The estimated number of effective samples is smaller than 200 for some parameters.\n",
      "Auto-assigning NUTS sampler...\n",
      "Initializing NUTS using jitter+adapt_diag...\n",
      "Multiprocess sampling (2 chains in 2 jobs)\n",
      "NUTS: [eps, beta, alpha]\n",
      "There were 9 divergences after tuning. Increase `target_accept` or reparameterize.\n",
      "There were 29 divergences after tuning. Increase `target_accept` or reparameterize.\n",
      "The number of effective samples is smaller than 25% for some parameters.\n",
      "Auto-assigning NUTS sampler...\n",
      "Initializing NUTS using jitter+adapt_diag...\n",
      "Multiprocess sampling (2 chains in 2 jobs)\n",
      "NUTS: [eps, beta, alpha]\n",
      "The acceptance probability does not match the target. It is 0.8805339974586952, but should be close to 0.8. Try to increase the number of tuning steps.\n",
      "Auto-assigning NUTS sampler...\n",
      "Initializing NUTS using jitter+adapt_diag...\n",
      "Multiprocess sampling (2 chains in 2 jobs)\n",
      "NUTS: [eps, beta, alpha]\n",
      "Auto-assigning NUTS sampler...\n",
      "Initializing NUTS using jitter+adapt_diag...\n",
      "Multiprocess sampling (2 chains in 2 jobs)\n",
      "NUTS: [eps, beta, alpha]\n",
      "There were 3 divergences after tuning. Increase `target_accept` or reparameterize.\n",
      "There was 1 divergence after tuning. Increase `target_accept` or reparameterize.\n",
      "The estimated number of effective samples is smaller than 200 for some parameters.\n"
     ]
    }
   ],
   "source": [
    "#takes >45 mins!\n",
    "indiv_traces = {}\n",
    "for county_name in srrs_mn.county.unique():\n",
    "    # Select subset of data belonging to county\n",
    "    c_data = srrs_mn.ix[data.county == county_name]\n",
    "    c_data = c_data.reset_index(drop=True)\n",
    "    \n",
    "    c_log_radon = c_data.log_radon\n",
    "    c_floor_measure = c_data.floor.values\n",
    "    \n",
    "    with pm.Model() as individual_model:\n",
    "        # Intercept prior\n",
    "        a = pm.Normal('alpha', mu=0, sd=1)\n",
    "        # Slope prior\n",
    "        b = pm.Normal('beta', mu=0, sd=1)\n",
    "    \n",
    "        # Model error prior\n",
    "        eps = pm.HalfCauchy('eps', beta=1)\n",
    "    \n",
    "        # Linear model\n",
    "        radon_est = a + b * c_floor_measure\n",
    "    \n",
    "        # Data likelihood\n",
    "        y_like = pm.Normal('y_like', mu=radon_est, sd=eps, observed=c_log_radon)\n",
    "\n",
    "        # Inference button (TM)!\n",
    "        trace = pm.sample(progressbar=False)\n",
    "        \n",
    "    indiv_traces[county_name] = trace"
   ]
  },
  {
   "cell_type": "code",
   "execution_count": null,
   "metadata": {
    "slideshow": {
     "slide_type": "slide"
    }
   },
   "outputs": [],
   "source": [
    "sample_counties = ('LAC QUI PARLE', \n",
    "                   'AITKIN', \n",
    "                   'KOOCHICHING', \n",
    "                   'DOUGLAS', \n",
    "                   'CLAY', \n",
    "                   'STEARNS', \n",
    "                   'RAMSEY', \n",
    "                   'ST LOUIS')\n",
    "\n",
    "fig, axes = plt.subplots(2, 4, figsize=(12, 6), sharey=True, sharex=True)\n",
    "axes = axes.ravel()\n",
    "for i,c in enumerate(sample_counties):\n",
    "    y = srrs_mn.log_radon[srrs_mn.county==c]\n",
    "    x = srrs_mn.floor[srrs_mn.county==c]\n",
    "    axes[i].scatter(x + np.random.randn(len(x))*0.01, y, alpha=0.4)\n",
    "    \n",
    "    # No pooling model\n",
    "    m,b = unpooled_estimates[['floor', c]]\n",
    "    \n",
    "    # Plot both models and data\n",
    "    xvals = np.linspace(-0.2, 1.2)\n",
    "    axes[i].plot(xvals, m*xvals+b)\n",
    "    axes[i].plot(xvals, m0*xvals+b0, 'r--')\n",
    "    axes[i].set_xticks([0,1])\n",
    "    axes[i].set_xticklabels(['basement', 'floor'])\n",
    "    axes[i].set_ylim(-1, 3)\n",
    "    axes[i].set_title(c)\n",
    "    if not i%2:\n",
    "        axes[i].set_ylabel('log radon level')"
   ]
  },
  {
   "cell_type": "markdown",
   "metadata": {},
   "source": [
    "Neither of these models are satisfactory:\n",
    "- if we are trying to identify high-radon counties, pooling is useless\n",
    "- we do not trust extreme unpooled estimates produced by models using few observations"
   ]
  },
  {
   "cell_type": "markdown",
   "metadata": {},
   "source": [
    "### Heirarchical Models\n",
    "\n",
    "Hierarchical or multilevel modeling is a generalization of regression modeling. A hierarchical model is a particular multilevel model where parameters are nested within one another.\n",
    "\n",
    "Observational units are often naturally clustered. Clustering induces dependence between observations, despite random sampling of clusters and random sampling within clusters.\n",
    "\n",
    "E.g. There are many houses within counties.\n",
    "\n",
    "Multilevel models are regression models\n",
    "- The model parameters are given probability models. \n",
    "- This implies that model parameters are allowed to vary by group.\n",
    "\n",
    "Some multilevel structures are not hierarchical.\n",
    "\n",
    "e.g. \"country\" and \"year\" are not nested, but may represent separate, but overlapping, clusters of parameters"
   ]
  },
  {
   "cell_type": "markdown",
   "metadata": {
    "slideshow": {
     "slide_type": "slide"
    }
   },
   "source": [
    "In a hierarchical model, parameters are viewed as a sample from a population distribution of parameters. Thus, we view them as being neither entirely different or exactly the same. This is parital pooling.\n",
    "![title](partial_pool.png)"
   ]
  },
  {
   "cell_type": "markdown",
   "metadata": {
    "slideshow": {
     "slide_type": "slide"
    }
   },
   "source": [
    "## Varying Intercept\n",
    "\n",
    "In the language of previous slides:\n",
    "\n",
    "$$ y_{c} = \\beta_{0_c} + \\beta_{floor} X_{floor_{c}} + \\varepsilon_c $$ \n",
    "\n",
    "$$ \\beta_{0_c} \\sim \\mathcal{N}\\left( \\mu_{\\beta_{0_c}}, \\sigma_{\\beta_{0_c}}^2 \\right) $$ \n",
    "\n",
    "$$ \\varepsilon_i \\sim \\mathcal{N}\\left( 0, \\sigma_{y}^2 \\right) $$"
   ]
  },
  {
   "cell_type": "code",
   "execution_count": null,
   "metadata": {
    "slideshow": {
     "slide_type": "slide"
    }
   },
   "outputs": [],
   "source": [
    "with Model() as varying_intercept:\n",
    "\n",
    "    # Priors\n",
    "    mu_a = Normal('mu_a', mu=0., tau=0.0001)\n",
    "    sigma_a = HalfCauchy('sigma_a', 5)\n",
    "\n",
    "    # Random intercepts\n",
    "    a = Normal('a', mu=mu_a, sd=sigma_a, shape=counties)\n",
    "    # Common slope\n",
    "    b = Normal('b', mu=0., sd=1.)\n",
    "\n",
    "    # Model error\n",
    "    sd_y = HalfCauchy('sd_y', 5)\n",
    "\n",
    "    # Expected value\n",
    "    y_hat = a[county] + b * floor\n",
    "\n",
    "    # Data likelihood\n",
    "    y_like = Normal('y_like', mu=y_hat, sd=sd_y, observed=log_radon)"
   ]
  },
  {
   "cell_type": "code",
   "execution_count": null,
   "metadata": {
    "slideshow": {
     "slide_type": "slide"
    }
   },
   "outputs": [],
   "source": [
    "with varying_intercept:\n",
    "    varying_intercept_trace = sample(1000, tune=1000)"
   ]
  },
  {
   "cell_type": "code",
   "execution_count": null,
   "metadata": {
    "slideshow": {
     "slide_type": "slide"
    }
   },
   "outputs": [],
   "source": [
    "from pymc3 import forestplot, traceplot, plot_posterior\n",
    "\n",
    "plt.figure(figsize=(6,14))\n",
    "forestplot(varying_intercept_trace, varnames=['a']);"
   ]
  },
  {
   "cell_type": "code",
   "execution_count": null,
   "metadata": {
    "slideshow": {
     "slide_type": "slide"
    }
   },
   "outputs": [],
   "source": [
    "plot_posterior(varying_intercept_trace, varnames=['sigma_a', 'b'])"
   ]
  },
  {
   "cell_type": "code",
   "execution_count": null,
   "metadata": {
    "slideshow": {
     "slide_type": "slide"
    }
   },
   "outputs": [],
   "source": [
    "xvals = np.arange(2)\n",
    "bp = varying_intercept_trace[a].mean(axis=0)\n",
    "mp = varying_intercept_trace[b].mean(axis=0)\n",
    "for bi in bp:\n",
    "    plt.plot(xvals, mp*xvals + bi, 'bo-', alpha=0.4)\n",
    "plt.xlim(-0.1,1.1)"
   ]
  },
  {
   "cell_type": "code",
   "execution_count": null,
   "metadata": {
    "slideshow": {
     "slide_type": "slide"
    }
   },
   "outputs": [],
   "source": [
    "fig, axes = plt.subplots(2, 4, figsize=(12, 6), sharey=True, sharex=True)\n",
    "axes = axes.ravel()\n",
    "for i,c in enumerate(sample_counties):\n",
    "\n",
    "    # Plot county data\n",
    "    y = srrs_mn[srrs_mn['county']==c]['log_radon']\n",
    "    x = srrs_mn[srrs_mn['county']==c]['floor']\n",
    "    axes[i].scatter(x + np.random.randn(len(x))*0.01, y, alpha=0.4)\n",
    "\n",
    "    # No pooling model\n",
    "    m,b = np.nan, unpooled_estimates[c]\n",
    "\n",
    "    xvals = np.linspace(-0.2, 1.2)\n",
    "    # Unpooled estimate\n",
    "    axes[i].plot(xvals, m*xvals+b)\n",
    "    # Pooled estimate\n",
    "    axes[i].plot(xvals, m0*xvals+b0, 'r--')\n",
    "    # Partial pooling esimate\n",
    "    axes[i].plot(xvals, mp*xvals+bp[county_lookup[c]], 'k:')\n",
    "    axes[i].set_xticks([0,1])\n",
    "    axes[i].set_xticklabels(['basement', 'floor'])\n",
    "    axes[i].set_ylim(-1, 3)\n",
    "    axes[i].set_title(c)\n",
    "    if not i%2:\n",
    "        axes[i].set_ylabel('log radon level')\n"
   ]
  },
  {
   "cell_type": "code",
   "execution_count": null,
   "metadata": {
    "slideshow": {
     "slide_type": "slide"
    }
   },
   "outputs": [],
   "source": [
    "with Model() as varying_intercept_slope:\n",
    "\n",
    "    # Priors\n",
    "    mu_a = Normal('mu_a', mu=0., sd=1.)\n",
    "    sigma_a = HalfCauchy('sigma_a', 5)\n",
    "    mu_b = Normal('mu_b', mu=0., sd=1.)\n",
    "    sigma_b = HalfCauchy('sigma_b', 5)\n",
    "\n",
    "    # Random intercepts\n",
    "    a = Normal('a', mu=mu_a, sd=sigma_a, shape=counties)\n",
    "    # Random slopes\n",
    "    b = Normal('b', mu=mu_b, sd=sigma_b, shape=counties)\n",
    "\n",
    "    # Model error\n",
    "    sigma_y = Uniform('sigma_y', lower=0, upper=100)\n",
    "\n",
    "    # Expected value\n",
    "    y_hat = a[county] + b[county] * floor\n",
    "\n",
    "    # Data likelihood\n",
    "    y_like = Normal('y_like', mu=y_hat, sd=sigma_y, observed=log_radon)\n"
   ]
  },
  {
   "cell_type": "code",
   "execution_count": null,
   "metadata": {
    "slideshow": {
     "slide_type": "slide"
    }
   },
   "outputs": [],
   "source": [
    "with varying_intercept_slope:\n",
    "    varying_intercept_slope_trace = sample(1000, tune=1000)"
   ]
  },
  {
   "cell_type": "code",
   "execution_count": null,
   "metadata": {
    "slideshow": {
     "slide_type": "slide"
    }
   },
   "outputs": [],
   "source": [
    "plt.figure(figsize=(6,16))\n",
    "forestplot(varying_intercept_slope_trace, varnames=['a','b']);\n"
   ]
  },
  {
   "cell_type": "code",
   "execution_count": null,
   "metadata": {
    "slideshow": {
     "slide_type": "slide"
    }
   },
   "outputs": [],
   "source": [
    "from pymc3 import Deterministic\n",
    "\n",
    "u = srrs_mn['u']\n",
    "\n",
    "with Model() as hierarchical_intercept:\n",
    "\n",
    "    # Priors\n",
    "    sigma_a = HalfCauchy('sigma_a', 5)\n",
    "\n",
    "    # County uranium model for slope\n",
    "    gamma_0 = Normal('gamma_0', mu=0., sd=1.)\n",
    "    gamma_1 = Normal('gamma_1', mu=0., sd=1.)\n",
    "\n",
    "\n",
    "    # Uranium model for intercept\n",
    "    mu_a = gamma_0 + gamma_1*u\n",
    "    # County variation not explained by uranium\n",
    "    eps_a = Normal('eps_a', mu=0, sd=sigma_a, shape=counties)\n",
    "    a = Deterministic('a', mu_a + eps_a[county])\n",
    "\n",
    "    # Common slope\n",
    "    b = Normal('b', mu=0., sd=1.)\n",
    "\n",
    "    # Model error\n",
    "    sigma_y = Uniform('sigma_y', lower=0, upper=100)\n",
    "\n",
    "    # Expected value\n",
    "    y_hat = a + b * floor\n",
    "\n",
    "    # Data likelihood\n",
    "    y_like = Normal('y_like', mu=y_hat, sd=sigma_y, observed=log_radon)"
   ]
  },
  {
   "cell_type": "code",
   "execution_count": null,
   "metadata": {
    "slideshow": {
     "slide_type": "slide"
    }
   },
   "outputs": [],
   "source": [
    "with hierarchical_intercept:\n",
    "    hierarchical_intercept_trace = sample(1000, tune=1000)"
   ]
  },
  {
   "cell_type": "code",
   "execution_count": null,
   "metadata": {
    "slideshow": {
     "slide_type": "slide"
    }
   },
   "outputs": [],
   "source": [
    "a_means = hierarchical_intercept_trace['a'].mean(axis=0)\n",
    "plt.scatter(u, a_means)\n",
    "g0 = hierarchical_intercept_trace['gamma_0'].mean()\n",
    "g1 = hierarchical_intercept_trace['gamma_1'].mean()\n",
    "xvals = np.linspace(-1, 0.8)\n",
    "plt.plot(xvals, g0+g1*xvals, 'k--')\n",
    "plt.xlim(-1, 0.8)\n",
    "\n",
    "a_se = hierarchical_intercept_trace['a'].std(axis=0)\n",
    "for ui, m, se in zip(u, a_means, a_se):\n",
    "    plt.plot([ui,ui], [m-se, m+se], 'b-')\n",
    "plt.xlabel('County-level uranium'); plt.ylabel('Intercept estimate');"
   ]
  },
  {
   "cell_type": "code",
   "execution_count": null,
   "metadata": {
    "slideshow": {
     "slide_type": "slide"
    }
   },
   "outputs": [],
   "source": [
    "xbar = srrs_mn.groupby('county')['floor'].mean().rename(county_lookup).values"
   ]
  },
  {
   "cell_type": "code",
   "execution_count": null,
   "metadata": {
    "slideshow": {
     "slide_type": "slide"
    }
   },
   "outputs": [],
   "source": [
    "with Model() as contextual_effect:\n",
    "\n",
    "    # Priors\n",
    "    sigma_a = HalfCauchy('sigma_a', 5)\n",
    "\n",
    "    # County uranium model for slope\n",
    "    gamma = Normal('gamma', mu=0., sd=1e5, shape=3)\n",
    "\n",
    "    # Uranium model for intercept\n",
    "    mu_a = Deterministic('mu_a', gamma[0] + gamma[1]*u.values + gamma[2]*xbar[county])\n",
    "\n",
    "    # County variation not explained by uranium\n",
    "    eps_a = Normal('eps_a', mu=0, sd=sigma_a, shape=counties)\n",
    "    a = Deterministic('a', mu_a + eps_a[county])\n",
    "\n",
    "    # Common slope\n",
    "    b = Normal('b', mu=0., sd=1e15)\n",
    "\n",
    "    # Model error\n",
    "    sigma_y = Uniform('sigma_y', lower=0, upper=100)\n",
    "\n",
    "    # Expected value\n",
    "    y_hat = a + b * floor\n",
    "\n",
    "    # Data likelihood\n",
    "    y_like = Normal('y_like', mu=y_hat, sd=sigma_y, observed=log_radon)\n"
   ]
  },
  {
   "cell_type": "code",
   "execution_count": null,
   "metadata": {
    "slideshow": {
     "slide_type": "slide"
    }
   },
   "outputs": [],
   "source": [
    "with contextual_effect:\n",
    "    contextual_effect_trace = sample(1000, tune=1000)"
   ]
  },
  {
   "cell_type": "code",
   "execution_count": null,
   "metadata": {
    "slideshow": {
     "slide_type": "slide"
    }
   },
   "outputs": [],
   "source": [
    "with Model() as contextual_pred:\n",
    "\n",
    "    # Priors\n",
    "    sigma_a = HalfCauchy('sigma_a', 5)\n",
    "\n",
    "    # County uranium model for slope\n",
    "    gamma = Normal('gamma', mu=0., sd=1e5, shape=3)\n",
    "\n",
    "    # Uranium model for intercept\n",
    "    mu_a = Deterministic('mu_a', gamma[0] + gamma[1]*u.values + gamma[2]*xbar[county])\n",
    "\n",
    "    # County variation not explained by uranium\n",
    "    eps_a = Normal('eps_a', mu=0, sd=sigma_a, shape=counties)\n",
    "    a = Deterministic('a', mu_a + eps_a[county])\n",
    "\n",
    "    # Common slope\n",
    "    b = Normal('b', mu=0., sd=1e15)\n",
    "\n",
    "    # Model error\n",
    "    sigma_y = Uniform('sigma_y', lower=0, upper=100)\n",
    "\n",
    "    # Expected value\n",
    "    y_hat = a + b * floor\n",
    "\n",
    "    # Data likelihood\n",
    "    y_like = Normal('y_like', mu=y_hat, sd=sigma_y, observed=log_radon)\n",
    "\n",
    "    # St Louis county prediction\n",
    "    stl_pred = Normal('stl_pred', mu=a[69] + b, sd=sigma_y)\n"
   ]
  },
  {
   "cell_type": "code",
   "execution_count": null,
   "metadata": {
    "slideshow": {
     "slide_type": "slide"
    }
   },
   "outputs": [],
   "source": [
    "with contextual_pred:\n",
    "    contextual_pred_trace = sample(1000, tune=1000)"
   ]
  },
  {
   "cell_type": "code",
   "execution_count": null,
   "metadata": {
    "slideshow": {
     "slide_type": "slide"
    }
   },
   "outputs": [],
   "source": [
    "plot_posterior(contextual_pred_trace, varnames=['stl_pred'])"
   ]
  },
  {
   "cell_type": "code",
   "execution_count": null,
   "metadata": {
    "slideshow": {
     "slide_type": "skip"
    }
   },
   "outputs": [],
   "source": [
    "traceplot(contextual_pred_trace)"
   ]
  },
  {
   "cell_type": "code",
   "execution_count": null,
   "metadata": {
    "slideshow": {
     "slide_type": "skip"
    }
   },
   "outputs": [],
   "source": [
    "srrs_mn"
   ]
  },
  {
   "cell_type": "code",
   "execution_count": null,
   "metadata": {
    "slideshow": {
     "slide_type": "slide"
    }
   },
   "outputs": [],
   "source": [
    "ax = sns.scatterplot(x=\"floor\", y=\"log_radon\", hue=\"county_code\", data=srrs_mn)"
   ]
  },
  {
   "cell_type": "code",
   "execution_count": null,
   "metadata": {},
   "outputs": [],
   "source": []
  }
 ],
 "metadata": {
  "celltoolbar": "Slideshow",
  "kernelspec": {
   "display_name": "Python [conda env:bayeslal]",
   "language": "python",
   "name": "conda-env-bayeslal-py"
  },
  "language_info": {
   "codemirror_mode": {
    "name": "ipython",
    "version": 3
   },
   "file_extension": ".py",
   "mimetype": "text/x-python",
   "name": "python",
   "nbconvert_exporter": "python",
   "pygments_lexer": "ipython3",
   "version": "3.6.9"
  }
 },
 "nbformat": 4,
 "nbformat_minor": 2
}
